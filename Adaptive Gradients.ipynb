{
 "cells": [
  {
   "cell_type": "code",
   "execution_count": 1,
   "id": "bcba1a37",
   "metadata": {},
   "outputs": [
    {
     "name": "stdout",
     "output_type": "stream",
     "text": [
      "(60000, 784)\n",
      "(60000, 10)\n"
     ]
    }
   ],
   "source": [
    "import numpy as np\n",
    "import tensorflow as tf\n",
    "import matplotlib.pyplot as plt\n",
    "\n",
    "mnist = tf.keras.datasets.mnist\n",
    "(x_train, y_train), (x_test, y_test) = mnist.load_data()\n",
    "\n",
    "x_train = np.reshape(x_train, (60000,784))/255.0\n",
    "x_test = np.reshape(x_test, (10000,784))/255.0\n",
    "y_train = np.matrix(np.eye(10)[y_train])\n",
    "y_test = np.matrix(np.eye(10)[y_test])\n",
    "\n",
    "# Input 784 nodes (28x28 pixel)\n",
    "print(x_train.shape)\n",
    "# 10 output nodes represent digital numbers ranging from 0 to 9.\n",
    "print(y_train.shape)"
   ]
  },
  {
   "cell_type": "code",
   "execution_count": 2,
   "id": "98d93162",
   "metadata": {},
   "outputs": [],
   "source": [
    "# Define active function.\n",
    "\n",
    "def sigmoid(x):\n",
    "     return 1. / (1. +np.exp(-x))\n",
    "def softmax(x):\n",
    "     return np.divide(np.matrix(np.exp(x)),np.mat(np.sum(np.exp(x),axis=1)))"
   ]
  },
  {
   "cell_type": "code",
   "execution_count": 3,
   "id": "ccc30033",
   "metadata": {},
   "outputs": [],
   "source": [
    "def Forwardpass(X,Wh1,bh1,Wh2,bh2,Wo,bo):\n",
    "     zh1 = X@Wh1.T + bh1\n",
    "     a = sigmoid(zh1) # output of layer 1\n",
    "\n",
    "     zh2 = a@Wh2.T + bh2 \n",
    "     b = sigmoid(zh2) # output of layer 2\n",
    "\n",
    "     z = b@Wo.T + bo\n",
    "     o = softmax(z) # output \n",
    "     return o\n",
    "    \n",
    "def AccTest(label,prediction): # calculate the matching score\n",
    "     OutMaxArg=np.argmax(prediction,axis=1)\n",
    "     LabelMaxArg=np.argmax(label,axis=1)\n",
    "     Accuracy=np.mean(OutMaxArg==LabelMaxArg)\n",
    "     return Accuracy"
   ]
  },
  {
   "cell_type": "code",
   "execution_count": 4,
   "id": "6e8d9b0a",
   "metadata": {},
   "outputs": [],
   "source": [
    "learningRate = 0.1\n",
    "Epoch = 100\n",
    "NumTrainSamples = 60000\n",
    "NumTestSamples = 10000\n",
    "NumInputs = 784\n",
    "NumHiddenUnits = 512\n",
    "NumClasses = 10\n",
    "\n",
    "#inital weights\n",
    "#hidden layer 1 = 784 x 512\n",
    "Wh1 = np.matrix(np.random.uniform(-0.5,0.5,(NumHiddenUnits,NumInputs)))\n",
    "bh1 = np.random.uniform(0,0.5,(1,NumHiddenUnits))\n",
    "dWh1 = np.zeros((NumHiddenUnits,NumInputs))\n",
    "dbh1 = np.zeros((1,NumHiddenUnits))\n",
    "\n",
    "#hidden layer 2 = 512 x 512\n",
    "Wh2 = np.matrix(np.random.uniform(-0.5,0.5,(NumHiddenUnits,NumHiddenUnits)))\n",
    "bh2 = np.random.uniform(0,0.5,(1,NumHiddenUnits))\n",
    "dWh2 = np.zeros((NumHiddenUnits,NumHiddenUnits))\n",
    "dbh2 = np.zeros((1,NumHiddenUnits))\n",
    "\n",
    "#Output layer = 512 x 10\n",
    "Wo = np.random.uniform(-0.5,0.5,(NumClasses,NumHiddenUnits))\n",
    "bo = np.random.uniform(0,0.5,(1,NumClasses))\n",
    "dWo = np.zeros((NumClasses,NumHiddenUnits))\n",
    "dbo = np.zeros((1,NumClasses))"
   ]
  },
  {
   "cell_type": "code",
   "execution_count": null,
   "id": "da591f11",
   "metadata": {},
   "outputs": [
    {
     "data": {
      "image/png": "[encoded data removed]",
      "text/plain": [
       "<Figure size 640x480 with 1 Axes>"
      ]
     },
     "metadata": {},
     "output_type": "display_data"
    }
   ],
   "source": [
    "from IPython.display import clear_output\n",
    "loss = []\n",
    "Acc = []\n",
    "Batch_size = 200\n",
    "Stochastic_samples = np.arange(NumTrainSamples)\n",
    "epsilon = 1e-8 \n",
    "\n",
    "for ep in range (Epoch):\n",
    " np.random.shuffle(Stochastic_samples)\n",
    " for ite in range (0,NumTrainSamples,Batch_size): \n",
    "     #feed fordware propagation\n",
    "     Batch_samples = Stochastic_samples[ite:ite+Batch_size]\n",
    "     x = x_train[Batch_samples,:]\n",
    "     y=y_train[Batch_samples,:]\n",
    "\n",
    "     zh1 = x@Wh1.T + bh1\n",
    "     a = sigmoid(zh1)\n",
    "     zh2 = a@Wh2.T + bh2\n",
    "     b = sigmoid(zh2)\n",
    "     z = b@Wo.T + bo\n",
    "     o = softmax(z)\n",
    "\n",
    "     #calculate loss\n",
    "     loss.append(-np.sum(np.multiply(y,np.log10(o))))\n",
    "\n",
    "     #calculate the error for the ouput layer\n",
    "     d = o - y\n",
    "\n",
    "     #Back propagate error\n",
    "     dh2 = d@Wo\n",
    "     dhs2 = np.multiply(np.multiply(dh2,b),(1-b))\n",
    "\n",
    "     dh1 = dh2@Wh2\n",
    "     dhs1 = np.multiply(np.multiply(dh1,a),(1-a))\n",
    "\n",
    "     dWo = np.matmul(np.transpose(d),b)\n",
    "     dbo = np.mean(d) \n",
    "\n",
    "     dWh2 = np.matmul(np.transpose(dhs2),a)\n",
    "     dbh2 = np.mean(dhs2, axis=0)\n",
    "\n",
    "     dWh1 = np.matmul(np.transpose(dhs1),x)\n",
    "     dbh1 = np.mean(dhs1, axis=0) \n",
    "\n",
    "     # Update weight \n",
    "     Wo = Wo - ( learningRate * dWo / (np.sqrt(np.square(dWo)) + epsilon )) / Batch_size\n",
    "     bo = bo - learningRate * dbo / (np.sqrt(np.square(dbo)) + epsilon)\n",
    "     Wh2 = Wh2 - ( learningRate * dWh2 / (np.sqrt(np.square(dWh2)) + epsilon)) / Batch_size\n",
    "     bh2 = bh2 - learningRate * dbh2 / (np.sqrt(np.square(dbh2)) + epsilon)\n",
    "     Wh1 = Wh1 - ( learningRate * dWh1 / (np.sqrt(np.square(dWh1)) + epsilon)) / Batch_size\n",
    "     bh1 = bh1 - learningRate * dbh1 / (np.sqrt(np.square(dbh1)) + epsilon) \n",
    " \n",
    " \n",
    " #Test accuracy with random innitial weights\n",
    " prediction = Forwardpass(x_test,Wh1,bh1,Wh2,bh2,Wo,bo)\n",
    " Acc.append(AccTest(y_test,prediction))\n",
    " clear_output(wait=True)\n",
    " plt.plot([i for i, _ in enumerate(Acc)],Acc,'o')\n",
    " plt.show()"
   ]
  }
 ],
 "metadata": {
  "kernelspec": {
   "display_name": "Python 3 (ipykernel)",
   "language": "python",
   "name": "python3"
  },
  "language_info": {
   "codemirror_mode": {
    "name": "ipython",
    "version": 3
   },
   "file_extension": ".py",
   "mimetype": "text/x-python",
   "name": "python",
   "nbconvert_exporter": "python",
   "pygments_lexer": "ipython3",
   "version": "3.8.0"
  }
 },
 "nbformat": 4,
 "nbformat_minor": 5
}

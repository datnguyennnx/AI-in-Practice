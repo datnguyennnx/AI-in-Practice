{
  "nbformat": 4,
  "nbformat_minor": 0,
  "metadata": {
    "colab": {
      "provenance": []
    },
    "kernelspec": {
      "name": "python3",
      "display_name": "Python 3"
    },
    "language_info": {
      "name": "python"
    }
  },
  "cells": [
    {
      "cell_type": "code",
      "execution_count": 1,
      "metadata": {
        "colab": {
          "base_uri": "https://localhost:8080/",
          "height": 253
        },
        "id": "9Pq4ln-PGkM4",
        "outputId": "2fe72a65-e8d3-41f2-c0b7-e395cdec711e"
      },
      "outputs": [
        {
          "output_type": "stream",
          "name": "stdout",
          "text": [
            "Load data from MNIST\n",
            "Downloading data from https://storage.googleapis.com/tensorflow/tf-keras-datasets/mnist.npz\n",
            "11490434/11490434 [==============================] - 0s 0us/step\n"
          ]
        },
        {
          "output_type": "display_data",
          "data": {
            "text/plain": [
              "<Figure size 432x288 with 2 Axes>"
            ],
            "image/png": "[encoded data removed]"
          },
          "metadata": {
            "needs_background": "light"
          }
        }
      ],
      "source": [
        "import numpy as np\n",
        "import tensorflow as tf\n",
        "import matplotlib.pyplot as plt\n",
        "print('Load data from MNIST')\n",
        "mnist = tf.keras.datasets.mnist\n",
        "\n",
        "# Mapping data from TF\n",
        "(x_train, y_train), (x_test, y_test) = mnist.load_data()\n",
        "# Get digital number ( 0 -> 9 ) follow label MNIST\n",
        "dig = np.array([1,3,5,7,9,11,13,15,17,19])\n",
        "x = x_train[dig,:,:]\n",
        "y = np.eye(10,10)\n",
        "plt.subplot(121)\n",
        "plt.imshow(x[0])\n",
        "plt.subplot(122)\n",
        "plt.imshow(x[1])\n",
        "x = np.reshape(x, (-1,784))/255"
      ]
    },
    {
      "cell_type": "code",
      "source": [
        "def sigmoid(x): \n",
        "    return 1./(1.+np.exp(-x))\n",
        "\n",
        "# Random weight before training\n",
        "w = np.random.uniform(-0.1, 0.1, (10, 784))\n",
        "# Transpose 10x784 to 10x10 weight for matrix multiply with x \n",
        "o = sigmoid(np.matmul(x, w.transpose())) \n",
        "print('output of first neuron with 10 digits ', o[:,0])\n",
        "fig = plt.figure()\n",
        "plt.bar([i for i, _ in enumerate(o)], o[:, 0])\n",
        "plt.show()"
      ],
      "metadata": {
        "colab": {
          "base_uri": "https://localhost:8080/",
          "height": 302
        },
        "id": "F30YffVQG_Rf",
        "outputId": "32716efd-171b-4e8c-d918-2479f4436f78"
      },
      "execution_count": 6,
      "outputs": [
        {
          "output_type": "stream",
          "name": "stdout",
          "text": [
            "output of first neuron with 10 digits  [0.57573837 0.36766658 0.4075434  0.3491641  0.50926957 0.5734734\n",
            " 0.57815299 0.49079075 0.32233813 0.50484351]\n"
          ]
        },
        {
          "output_type": "display_data",
          "data": {
            "text/plain": [
              "<Figure size 432x288 with 1 Axes>"
            ],
            "image/png": "[encoded data removed]"
          },
          "metadata": {
            "needs_background": "light"
          }
        }
      ]
    },
    {
      "cell_type": "code",
      "source": [
        "#training process\n",
        "n = 0.05 \n",
        "num_epoch = 10\n",
        "for epoch in range(num_epoch):\n",
        "  o = sigmoid(np.matmul(x, w.transpose()))\n",
        "  loss = np.power(0-y, 2).mean()\n",
        "  # \"@x\" mean mathmul()\n",
        "  dw = np.transpose((y-o)*o*(1-o))@x\n",
        "  w = w + n*dw\n",
        "  print(loss)\n",
        "\n",
        "# Active function sigmoid\n",
        "o = sigmoid(np.matmul(x, w.transpose()))\n",
        "# Input number to o[:, number] to check model\n",
        "print('output of the first neuron with 10 input digit ', o[:, 9])\n",
        "fig = plt.figure()\n",
        "# Plot accuracy follow number o[:, number]\n",
        "plt.bar([i for i, _ in enumerate(o)], o[:,9])\n",
        "plt.show()"
      ],
      "metadata": {
        "colab": {
          "base_uri": "https://localhost:8080/",
          "height": 473
        },
        "id": "Im-AmiBAKL4u",
        "outputId": "e7358c1c-9f0e-4b10-c545-09f54726e059"
      },
      "execution_count": 17,
      "outputs": [
        {
          "output_type": "stream",
          "name": "stdout",
          "text": [
            "0.1\n",
            "0.1\n",
            "0.1\n",
            "0.1\n",
            "0.1\n",
            "0.1\n",
            "0.1\n",
            "0.1\n",
            "0.1\n",
            "0.1\n",
            "output of the first neuron with 10 input digit  [0.00844753 0.03322511 0.01468169 0.00689574 0.03674807 0.03547511\n",
            " 0.01627841 0.06379351 0.0636518  0.88925664]\n"
          ]
        },
        {
          "output_type": "display_data",
          "data": {
            "text/plain": [
              "<Figure size 432x288 with 1 Axes>"
            ],
            "image/png": "[encoded data removed]"
          },
          "metadata": {
            "needs_background": "light"
          }
        }
      ]
    }
  ]
}
{
  "nbformat": 4,
  "nbformat_minor": 0,
  "metadata": {
    "colab": {
      "provenance": []
    },
    "kernelspec": {
      "name": "python3",
      "display_name": "Python 3"
    },
    "language_info": {
      "name": "python"
    }
  },
  "cells": [
    {
      "cell_type": "code",
      "execution_count": null,
      "metadata": {
        "colab": {
          "base_uri": "https://localhost:8080/",
          "height": 265
        },
        "id": "1W6EQ-rEPV7T",
        "outputId": "26d4cbd3-fc8b-479f-a3dd-ca5beb472df6"
      },
      "outputs": [
        {
          "output_type": "display_data",
          "data": {
            "text/plain": [
              "<Figure size 432x288 with 1 Axes>"
            ],
            "image/png": "[encoded data removed]"
          },
          "metadata": {
            "needs_background": "light"
          }
        }
      ],
      "source": [
        "import numpy as np\n",
        "import matplotlib.pyplot as plt\n",
        "from IPython.display import clear_output\n",
        "\n",
        "# Chosse point on map \n",
        "x = np.array ([30, 40, 50, 60, 35, 45 ,55 ,65])\n",
        "y = np.array ([500, 600, 300, 750, 350, 450, 500, 550])\n",
        "plt.plot(x,y,'x')\n",
        "\n",
        "m = -2\n",
        "b = 50\n",
        "n = 0.0001\n",
        "for rep in range (250):\n",
        "  dm = 0\n",
        "  db = 0\n",
        "  for i in range (4):\n",
        "    dm += 2*n* (m*x[i]+b -y[i])*x[i]\n",
        "    db += 2*n* (m*x[i]+b -y[i])\n",
        "  m = m-dm/4             \n",
        "  b = b-db/4\n",
        "\n",
        "  clear_output(wait=True)\n",
        "\n",
        "\n",
        "  plt.plot(x,y,'x')\n",
        "  plt.plot(x,m*x + b)\n",
        "  plt.show()"
      ]
    }
  ]
}
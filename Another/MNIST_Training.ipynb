{
 "cells": [
  {
   "cell_type": "code",
   "execution_count": 1,
   "id": "8bf03fff",
   "metadata": {},
   "outputs": [
    {
     "ename": "SyntaxError",
     "evalue": "invalid syntax (53298243.py, line 1)",
     "output_type": "error",
     "traceback": [
      "\u001b[1;36m  Cell \u001b[1;32mIn[1], line 1\u001b[1;36m\u001b[0m\n\u001b[1;33m    Character recognition with neural networks MNIST employs two hidden layers.\u001b[0m\n\u001b[1;37m              ^\u001b[0m\n\u001b[1;31mSyntaxError\u001b[0m\u001b[1;31m:\u001b[0m invalid syntax\n"
     ]
    }
   ],
   "source": [
    "Character recognition with neural networks MNIST employs two hidden layers. \n",
    "The first hidden layer uses the ReLU function, while the second hidden layer uses the Sigmoid function,\n",
    "and each layer includes 512 norons. The result uses the Soft Max function\n",
    "\n",
    "- Doing mathematical simulations - Write SGD mini-batch and batch size = 200 Python scripts.\n",
    "- Creating models (mathematical equations, based on matrices, for the entire training and inference process)\n",
    "- Write your code in Python rather than using modules that help with neural network creation."
   ]
  },
  {
   "cell_type": "code",
   "execution_count": 2,
   "id": "1591ed5a",
   "metadata": {
    "scrolled": false
   },
   "outputs": [
    {
     "name": "stdout",
     "output_type": "stream",
     "text": [
      "(60000, 784)\n",
      "(60000, 10)\n"
     ]
    }
   ],
   "source": [
    "import numpy as np\n",
    "import tensorflow as tf\n",
    "import matplotlib.pyplot as plt\n",
    "\n",
    "mnist = tf.keras.datasets.mnist\n",
    "(x_train, y_train), (x_test, y_test) = mnist.load_data()\n",
    "\n",
    "# Normalizing the MNIST dataset\n",
    "x_train = np.reshape(x_train, (60000,784))/255.0\n",
    "x_test = np.reshape(x_test, (10000,784))/255.0\n",
    "y_train = np.matrix(np.eye(10)[y_train])\n",
    "y_test = np.matrix(np.eye(10)[y_test])\n",
    "\n",
    "# Input 784 nodes (28x28 pixel)\n",
    "print(x_train.shape)\n",
    "\n",
    "# 10 output nodes represent digital numbers ranging from 0 to 9.\n",
    "print(y_train.shape)\n",
    "\n"
   ]
  },
  {
   "cell_type": "code",
   "execution_count": 3,
   "id": "16e17e0e",
   "metadata": {},
   "outputs": [],
   "source": [
    "# Explaining how np.reshape working by example \n",
    "# Giving array with random below\n",
    "# x = [10, 9, 1, 2, 3, 5, 2, 7, 3, 7, 8, 10, 20, 40, 33, 29, 54, 25, 29, 30]\n",
    "\n",
    "# print(x)\n",
    "# [10, 9, 1, 2, 3, 5, 2, 7, 3, 7, 8, 10, 20, 40, 33, 29, 54, 25, 29, 30]\n",
    "\n",
    "# print(np.reshape(x, (5, 4)))\n",
    "# [[10  9  1  2]\n",
    "# [ 3  5  2  7]\n",
    "# [ 3  7  8 10]\n",
    "# [20 40 33 29]\n",
    "# [54 25 29 30]]"
   ]
  },
  {
   "cell_type": "code",
   "execution_count": 4,
   "id": "6c5e0ff7",
   "metadata": {},
   "outputs": [],
   "source": [
    "# Explaining np.eye for output.\n",
    "# print(np.eye(10)) \n",
    "# [[1. 0. 0. 0. 0. 0. 0. 0. 0. 0.]\n",
    "# [0. 1. 0. 0. 0. 0. 0. 0. 0. 0.]\n",
    "# [0. 0. 1. 0. 0. 0. 0. 0. 0. 0.]\n",
    "# [0. 0. 0. 1. 0. 0. 0. 0. 0. 0.]\n",
    "# [0. 0. 0. 0. 1. 0. 0. 0. 0. 0.]\n",
    "# [0. 0. 0. 0. 0. 1. 0. 0. 0. 0.]\n",
    "# [0. 0. 0. 0. 0. 0. 1. 0. 0. 0.]\n",
    "# [0. 0. 0. 0. 0. 0. 0. 1. 0. 0.]\n",
    "# [0. 0. 0. 0. 0. 0. 0. 0. 1. 0.]\n",
    "# [0. 0. 0. 0. 0. 0. 0. 0. 0. 1.]]\n",
    "\n",
    "# We identify 0 mean 1 0 0 0 0 0 0 0 0 0\n",
    "# 1 mean 0 1 0 0 0 0 0 0 0 0 \n",
    "# => ... => \n",
    "# 9 mean 0 0 0 0 0 0 0 0 0 1 \n",
    "\n",
    "\n"
   ]
  },
  {
   "cell_type": "code",
   "execution_count": 5,
   "id": "28818b36",
   "metadata": {},
   "outputs": [],
   "source": [
    "# Define active function.\n",
    "def relu(x):\n",
    "    return (np.maximum(0.0, x))\n",
    "def sigmoid(x):\n",
    "    return 1./(1.+np.exp(-x))\n",
    "def softmax(x):\n",
    "    return np.divide(np.matrix(np.exp(x)),np.mat(np.sum(np.exp(x),axis=1)))\n",
    "\n",
    "\n"
   ]
  },
  {
   "cell_type": "code",
   "execution_count": 6,
   "id": "a8a78ebb",
   "metadata": {},
   "outputs": [],
   "source": [
    "def Forwardpass(X,Wh1,bh1,Wh2,bh2,Wo,bo):\n",
    "    zh1 = X@Wh1.T + bh1\n",
    "    a = relu(zh1) # output of layer 1\n",
    "    \n",
    "    zh2 = a@Wh2.T + bh2 \n",
    "    b = sigmoid(zh2) # output of layer 2\n",
    "    \n",
    "    z = b@Wo.T + bo\n",
    "    o = softmax(z)  # output \n",
    "    return o\n",
    "\n",
    "def AccTest(label,prediction): # calculate the matching score\n",
    "    OutMaxArg=np.argmax(prediction,axis=1)\n",
    "    LabelMaxArg=np.argmax(label,axis=1)\n",
    "    Accuracy=np.mean(OutMaxArg==LabelMaxArg)\n",
    "    return Accuracy"
   ]
  },
  {
   "cell_type": "code",
   "execution_count": 16,
   "id": "d4419a1a",
   "metadata": {},
   "outputs": [
    {
     "name": "stdout",
     "output_type": "stream",
     "text": [
      "(512, 784)\n",
      "(512, 512)\n",
      "(10, 512)\n"
     ]
    }
   ],
   "source": [
    "learningRate = 0.1\n",
    "Epoch=100\n",
    "NumTrainSamples=60000\n",
    "NumTestSamples=10000\n",
    "NumInputs=784\n",
    "NumHiddenUnits=512\n",
    "NumClasses=10\n",
    "\n",
    "#inital weights\n",
    "\n",
    "#hidden layer 1 = 784 x 512\n",
    "Wh1=np.matrix(np.random.uniform(-0.5,0.5,(NumHiddenUnits,NumInputs)))\n",
    "bh1= np.random.uniform(0,0.5,(1,NumHiddenUnits))\n",
    "dWh1= np.zeros((NumHiddenUnits,NumInputs))\n",
    "dbh1= np.zeros((1,NumHiddenUnits))\n",
    "\n",
    "print(np.shape(Wh1))\n",
    "\n",
    "\n",
    "#hidden layer 2 = 512 x 512\n",
    "Wh2=np.matrix(np.random.uniform(-0.5,0.5,(NumHiddenUnits,NumHiddenUnits)))\n",
    "bh2= np.random.uniform(0,0.5,(1,NumHiddenUnits))\n",
    "dWh2= np.zeros((NumHiddenUnits,NumHiddenUnits))\n",
    "dbh2= np.zeros((1,NumHiddenUnits))\n",
    "\n",
    "print(np.shape(Wh2))\n",
    "\n",
    "#Output layer = 512 x 10\n",
    "Wo=np.random.uniform(-0.5,0.5,(NumClasses,NumHiddenUnits))\n",
    "bo= np.random.uniform(0,0.5,(1,NumClasses))\n",
    "dWo= np.zeros((NumClasses,NumHiddenUnits))\n",
    "dbo= np.zeros((1,NumClasses))\n",
    "\n",
    "print(np.shape(Wo))\n"
   ]
  },
  {
   "cell_type": "code",
   "execution_count": 8,
   "id": "3df4e2d3",
   "metadata": {
    "scrolled": true
   },
   "outputs": [
    {
     "data": {
      "image/png": "[encoded data removed]",
      "text/plain": [
       "<Figure size 640x480 with 1 Axes>"
      ]
     },
     "metadata": {},
     "output_type": "display_data"
    },
    {
     "name": "stdout",
     "output_type": "stream",
     "text": [
      "0.7848\n"
     ]
    }
   ],
   "source": [
    "from IPython.display import clear_output\n",
    "loss = []\n",
    "Acc = []\n",
    "for ep in range (Epoch):\n",
    "#feed fordware propagation\n",
    "    x = x_train\n",
    "    y = y_train\n",
    "    \n",
    "    zh1 = x@Wh1.T + bh1\n",
    "    a = relu(zh1)\n",
    "    \n",
    "    zh2 = a@Wh2.T + bh2\n",
    "    b = sigmoid(zh2)\n",
    "    \n",
    "    z = b@Wo.T + bo\n",
    "    o = softmax(z)\n",
    "    \n",
    "    #calculate loss\n",
    "    loss.append(-np.sum(np.multiply(y,np.log10(o))))\n",
    "    \n",
    "    #calculate the error for the ouput layer\n",
    "    d = o-y\n",
    "    \n",
    "    #Back propagate error\n",
    "    dh2 = d@Wo\n",
    "    dhs2 = np.multiply(np.multiply(dh2,b),(1-b))\n",
    "    \n",
    "    dh1 = dh2@Wh2\n",
    "    dhs1 = np.multiply(np.multiply(dh1,a),(1-a))\n",
    "    \n",
    "    dWo = np.matmul(np.transpose(d),b)\n",
    "    dbo = np.mean(d) \n",
    "    \n",
    "    dWh2 = np.matmul(np.transpose(dhs2),a)\n",
    "    dbh2 = np.mean(dhs2)\n",
    "\n",
    "    \n",
    "    # Update weight \n",
    "    Wo = Wo - learningRate * dWo / NumTrainSamples\n",
    "    bo = bo - learningRate * dbo\n",
    "    \n",
    "    Wh2 = Wh2 - learningRate * dWh2 / NumTrainSamples\n",
    "    bh2 = bh2 - learningRate * dbh2\n",
    "\n",
    "    Wh1 = Wh1 - learningRate * dWh1 / NumTrainSamples\n",
    "    bh1 = bh1 - learningRate * dbh1\n",
    "    \n",
    "    #Test accuracy with random innitial weights\n",
    "    prediction = Forwardpass(x_test,Wh1,bh1,Wh2,bh2,Wo,bo)\n",
    "    Acc.append(AccTest(y_test,prediction))\n",
    "    clear_output(wait=True)\n",
    "    plt.plot([i for i, _ in enumerate(Acc)],Acc,'o')\n",
    "    plt.show()\n",
    "\n",
    "prediction = Forwardpass(x_test,Wh1,bh1,Wh2,bh2,Wo,bo)\n",
    "Rate = AccTest(y_test,prediction)\n",
    "print(Rate)"
   ]
  },
  {
   "cell_type": "markdown",
   "id": "d02529b4",
   "metadata": {},
   "source": []
  },
  {
   "cell_type": "code",
   "execution_count": 17,
   "id": "ba497892",
   "metadata": {},
   "outputs": [
    {
     "data": {
      "image/png": "[encoded data removed]",
      "text/plain": [
       "<Figure size 640x480 with 1 Axes>"
      ]
     },
     "metadata": {},
     "output_type": "display_data"
    }
   ],
   "source": [
    "from IPython.display import clear_output\n",
    "loss = []\n",
    "Acc = []\n",
    "Batch_size = 20\n",
    "Stochastic_samples = np.arange(NumTrainSamples)\n",
    "for ep in range (Epoch):\n",
    "    np.random.shuffle(Stochastic_samples)\n",
    "for ite in range (0,NumTrainSamples,Batch_size): \n",
    "    #feed fordware propagation\n",
    "    Batch_samples = Stochastic_samples[ite:ite+Batch_size]\n",
    "    x = x_train[Batch_samples,:]\n",
    "    y=y_train[Batch_samples,:]\n",
    "    \n",
    "    zh1 = x@Wh1.T + bh1\n",
    "    a = relu(zh1)\n",
    "    \n",
    "    zh2 = a@Wh2.T + bh2\n",
    "    b = sigmoid(zh2)\n",
    "    \n",
    "    z = b@Wo.T + bo\n",
    "    o = softmax(z)\n",
    "    \n",
    "    #calculate loss\n",
    "    loss.append(-np.sum(np.multiply(y,np.log10(o))))\n",
    "    #calculate the error for the ouput layer\n",
    "    d = o-y\n",
    "    #Back propagate error\n",
    "    dh2 = d@Wo\n",
    "    dhs2 = np.multiply(np.multiply(dh2,b),(1-b))\n",
    "    \n",
    "    dh1 = dh2@Wh2\n",
    "    dhs1 = np.multiply(np.multiply(dh1,a),(1-a))\n",
    "    \n",
    "    dWo = np.matmul(np.transpose(d),b)\n",
    "    dbo = np.mean(d) \n",
    "    \n",
    "    dWh2 = np.matmul(np.transpose(dhs2),a)\n",
    "    dbh2 = np.mean(dhs2)\n",
    "\n",
    "    \n",
    "    # Update weight \n",
    "    Wo = Wo - learningRate * dWo / Batch_size\n",
    "    bo = bo - learningRate * dbo\n",
    "    \n",
    "    Wh2 = Wh2 - learningRate * dWh2 / Batch_size\n",
    "    bh2 = bh2 - learningRate * dbh2\n",
    "\n",
    "    Wh1 = Wh1 - learningRate * dWh1 / Batch_size\n",
    "    bh1 = bh1 - learningRate * dbh1\n",
    "    #Test accuracy with random innitial weights\n",
    "    prediction = Forwardpass(x_test,Wh1,bh1,Wh2,bh2,Wo,bo)\n",
    "    Acc.append(AccTest(y_test,prediction))\n",
    "    clear_output(wait=True)\n",
    "    plt.plot([i for i, _ in enumerate(Acc)],Acc,'o')\n",
    "    plt.show()\n"
   ]
  },
  {
   "cell_type": "code",
   "execution_count": null,
   "id": "ec768947",
   "metadata": {},
   "outputs": [],
   "source": []
  },
  {
   "cell_type": "code",
   "execution_count": null,
   "id": "055e7016",
   "metadata": {},
   "outputs": [],
   "source": []
  }
 ],
 "metadata": {
  "kernelspec": {
   "display_name": "Python 3 (ipykernel)",
   "language": "python",
   "name": "python3"
  },
  "language_info": {
   "codemirror_mode": {
    "name": "ipython",
    "version": 3
   },
   "file_extension": ".py",
   "mimetype": "text/x-python",
   "name": "python",
   "nbconvert_exporter": "python",
   "pygments_lexer": "ipython3",
   "version": "3.8.0"
  }
 },
 "nbformat": 4,
 "nbformat_minor": 5
}

{
 "cells": [
  {
   "cell_type": "code",
   "execution_count": 1,
   "id": "ad410069",
   "metadata": {},
   "outputs": [
    {
     "name": "stdout",
     "output_type": "stream",
     "text": [
      "(60000, 784)\n",
      "(60000, 10)\n"
     ]
    }
   ],
   "source": [
    "import numpy as np\n",
    "import tensorflow as tf\n",
    "import matplotlib.pyplot as plt\n",
    "\n",
    "mnist = tf.keras.datasets.mnist\n",
    "(x_train, y_train), (x_test, y_test) = mnist.load_data()\n",
    "\n",
    "x_train = np.reshape(x_train, (60000,784))/255.0\n",
    "x_test = np.reshape(x_test, (10000,784))/255.0\n",
    "y_train = np.matrix(np.eye(10)[y_train])\n",
    "y_test = np.matrix(np.eye(10)[y_test])\n",
    "\n",
    "# Input 784 nodes (28x28 pixel)\n",
    "print(x_train.shape)\n",
    "# 10 output nodes represent digital numbers ranging from 0 to 9.\n",
    "print(y_train.shape)"
   ]
  },
  {
   "cell_type": "code",
   "execution_count": 2,
   "id": "e33d148b",
   "metadata": {},
   "outputs": [],
   "source": [
    "# Define active function.\n",
    "\n",
    "def sigmoid(x):\n",
    "     return 1. / (1. +np.exp(-x))\n",
    "def softmax(x):\n",
    "     return np.divide(np.matrix(np.exp(x)),np.mat(np.sum(np.exp(x),axis=1)))"
   ]
  },
  {
   "cell_type": "code",
   "execution_count": 3,
   "id": "2463db21",
   "metadata": {},
   "outputs": [],
   "source": [
    "def Forwardpass(X,Wh1,bh1,Wh2,bh2,Wo,bo):\n",
    "     zh1 = X@Wh1.T + bh1\n",
    "     a = sigmoid(zh1) # output of layer 1\n",
    "\n",
    "     zh2 = a@Wh2.T + bh2 \n",
    "     b = sigmoid(zh2) # output of layer 2\n",
    "\n",
    "     z = b@Wo.T + bo\n",
    "     o = softmax(z) # output \n",
    "     return o\n",
    "    \n",
    "def AccTest(label,prediction): # calculate the matching score\n",
    "     OutMaxArg=np.argmax(prediction,axis=1)\n",
    "     LabelMaxArg=np.argmax(label,axis=1)\n",
    "     Accuracy=np.mean(OutMaxArg==LabelMaxArg)\n",
    "     return Accuracy\n",
    "\n",
    "def dropOutMask(node, probability):\n",
    "     temp = np.random.choice(2, (200,512), p = [probability, 1-probability])\n",
    "     return temp*0.5\n"
   ]
  },
  {
   "cell_type": "code",
   "execution_count": 4,
   "id": "9207d62a",
   "metadata": {},
   "outputs": [],
   "source": [
    "learningRate = 0.1\n",
    "Epoch = 100\n",
    "NumTrainSamples = 60000\n",
    "NumTestSamples = 10000\n",
    "NumInputs = 784\n",
    "NumHiddenUnits = 512\n",
    "NumClasses = 10\n",
    "\n",
    "#inital weights\n",
    "#hidden layer 1 = 784 x 512\n",
    "Wh1 = np.matrix(np.random.uniform(-0.5,0.5,(NumHiddenUnits,NumInputs)))\n",
    "bh1 = np.random.uniform(0,0.5,(1,NumHiddenUnits))\n",
    "dWh1 = np.zeros((NumHiddenUnits,NumInputs))\n",
    "dbh1 = np.zeros((1,NumHiddenUnits))\n",
    "\n",
    "#hidden layer 2 = 512 x 512\n",
    "Wh2 = np.matrix(np.random.uniform(-0.5,0.5,(NumHiddenUnits,NumHiddenUnits)))\n",
    "bh2 = np.random.uniform(0,0.5,(1,NumHiddenUnits))\n",
    "dWh2 = np.zeros((NumHiddenUnits,NumHiddenUnits))\n",
    "dbh2 = np.zeros((1,NumHiddenUnits))\n",
    "\n",
    "#Output layer = 512 x 10\n",
    "Wo = np.random.uniform(-0.5,0.5,(NumClasses,NumHiddenUnits))\n",
    "bo = np.random.uniform(0,0.5,(1,NumClasses))\n",
    "dWo = np.zeros((NumClasses,NumHiddenUnits))\n",
    "dbo = np.zeros((1,NumClasses))"
   ]
  },
  {
   "cell_type": "code",
   "execution_count": null,
   "id": "5f46ceac",
   "metadata": {},
   "outputs": [
    {
     "data": {
      "image/png": "[encoded data removed]",
      "text/plain": [
       "<Figure size 640x480 with 1 Axes>"
      ]
     },
     "metadata": {},
     "output_type": "display_data"
    }
   ],
   "source": [
    "from traitlets.traitlets import Undefined\n",
    "from IPython.display import clear_output\n",
    "\n",
    "loss = []\n",
    "Acc = []\n",
    "Batch_size = 200\n",
    "dropOutProp = 0.5\n",
    "Stochastic_samples = np.arange(NumTrainSamples)\n",
    "\n",
    "for ep in range (Epoch):\n",
    " np.random.shuffle(Stochastic_samples)\n",
    " for ite in range(0,NumTrainSamples,Batch_size): \n",
    "     #making mask\n",
    "     a_mask = dropOutMask((200,512), dropOutProp)\n",
    "     b_mask = dropOutMask((200,512), dropOutProp)\n",
    "     #feed fordware propagation\n",
    "     Batch_samples = Stochastic_samples[ite:ite+Batch_size]\n",
    "     x = x_train[Batch_samples,:]\n",
    "     y = y_train[Batch_samples,:]\n",
    "    \n",
    "     zh1 = x@Wh1.T + bh1\n",
    "     a_temp = sigmoid(zh1)\n",
    "     a = np.multiply(a_mask,a_temp) #update mask\n",
    "        \n",
    "     zh2 = a@Wh2.T + bh2\n",
    "     b_temp = sigmoid(zh2)\n",
    "     b = np.multiply(b_mask,b_temp) #update mask\n",
    "    \n",
    "     z = b@Wo.T + bo\n",
    "     o = softmax(z)\n",
    "    \n",
    "     #calculate loss\n",
    "     loss.append(-np.sum(np.multiply(y,np.log10(o))))\n",
    "    \n",
    "     #calculate the error for the ouput layer\n",
    "     d = o - y\n",
    "    \n",
    "     #Back propagate error\n",
    "     dh2 = d@Wo\n",
    "     dhs2 = np.multiply(np.multiply(dh2,b),(1-b))\n",
    "        \n",
    "     dh1 = dhs2@Wh2\n",
    "     dhs1 = np.multiply(np.multiply(dh1,a),(1-a))\n",
    "\n",
    "     # Update weight \n",
    "     dWo = np.matmul(np.transpose(d),b)\n",
    "     dbo = np.mean(d) \n",
    "     dWh2 = np.matmul(np.transpose(dhs2),a)\n",
    "     dbh2 = np.mean(dhs2)\n",
    "\n",
    "     dWh1= np.matmul(np.transpose(dhs1),x)\n",
    "     dbh1= np.mean(dhs1) \n",
    "\n",
    "     Wo = Wo - learningRate * dWo / Batch_size\n",
    "     bo = bo - learningRate * dbo\n",
    "     Wh2 = Wh2 - learningRate * dWh2 / Batch_size\n",
    "     bh2 = bh2 - learningRate * dbh2\n",
    "     Wh1 = Wh1 - learningRate * dWh1 / Batch_size\n",
    "     bh1 = bh1 - learningRate * dbh1\n",
    "    \n",
    " #Test accuracy with random innitial weights\n",
    " prediction = Forwardpass(x_test,Wh1,bh1,Wh2,bh2,Wo,bo)\n",
    " Acc.append(AccTest(y_test,prediction))\n",
    " clear_output(wait=True)\n",
    " plt.plot([i for i, _ in enumerate(Acc)],Acc,'o')\n",
    " plt.show()"
   ]
  }
 ],
 "metadata": {
  "kernelspec": {
   "display_name": "Python 3 (ipykernel)",
   "language": "python",
   "name": "python3"
  },
  "language_info": {
   "codemirror_mode": {
    "name": "ipython",
    "version": 3
   },
   "file_extension": ".py",
   "mimetype": "text/x-python",
   "name": "python",
   "nbconvert_exporter": "python",
   "pygments_lexer": "ipython3",
   "version": "3.8.0"
  }
 },
 "nbformat": 4,
 "nbformat_minor": 5
}
